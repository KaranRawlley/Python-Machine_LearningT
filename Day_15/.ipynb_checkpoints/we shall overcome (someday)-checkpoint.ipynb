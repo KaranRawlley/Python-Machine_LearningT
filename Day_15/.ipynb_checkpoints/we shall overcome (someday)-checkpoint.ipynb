{
 "cells": [
  {
   "cell_type": "code",
   "execution_count": null,
   "metadata": {
    "collapsed": false,
    "deletable": true,
    "editable": true
   },
   "outputs": [
    {
     "name": "stdout",
     "output_type": "stream",
     "text": [
      "[[221 221 222 ..., 229 229 229]\n",
      " [221 221 222 ..., 229 229 229]\n",
      " [221 221 222 ..., 229 229 229]\n",
      " ..., \n",
      " [ 75  72  73 ...,   0   0   0]\n",
      " [ 77  72  80 ...,   0   0   0]\n",
      " [ 77  73  81 ...,   0   0   0]]\n"
     ]
    }
   ],
   "source": [
    "import cv2 #cv2.imread() used to read an image(first argument : path of image,second argument : 1 for color; 0 for grayscale;-1 for B/W)\n",
    "import numpy as np\n",
    "img = cv2.imread('sample-images/sample-images/news.jpg',0)\n",
    "print(img)"
   ]
  },
  {
   "cell_type": "code",
   "execution_count": null,
   "metadata": {
    "collapsed": false,
    "deletable": true,
    "editable": true
   },
   "outputs": [],
   "source": [
    "# fn to display an image using cv2.imshow('image',img)  \n",
    "cv2.imshow('image',img)\n",
    "cv2.waitKey(0)\n",
    "cv2.destroyAllWindows()"
   ]
  },
  {
   "cell_type": "code",
   "execution_count": null,
   "metadata": {
    "collapsed": true,
    "deletable": true,
    "editable": true
   },
   "outputs": [],
   "source": [
    "# cv2.namwsWindow() is used to autosize or normal *(arguments 1: 'image',2: cv2.WINDOW_AUTOSIZE(Default) or cv2.WINDOW_NORMAL )\n",
    "cv2.namedWindow('image',cv2.WINDOW_NORMAL)\n",
    "cv2.imshow('image',img)\n",
    "cv2.waitKey(0)\n",
    "cv2.destroyAllWindows()"
   ]
  },
  {
   "cell_type": "code",
   "execution_count": null,
   "metadata": {
    "collapsed": false,
    "deletable": true,
    "editable": true
   },
   "outputs": [],
   "source": [
    "# create a copy of image with given name & extention  cv2.imwrite() \n",
    "cv2.imwrite('bpit.png',img)"
   ]
  },
  {
   "cell_type": "code",
   "execution_count": null,
   "metadata": {
    "collapsed": false,
    "deletable": true,
    "editable": true
   },
   "outputs": [],
   "source": [
    "## getting keys from cv2.waitKet(0)\n",
    "\n",
    "import numpy as np\n",
    "import cv2\n",
    "img = cv2.imread('sample-images/sample-images/news.jpg',0)\n",
    "cv2.imshow('Nishant',img)\n",
    "k = cv2.waitKey(0)\n",
    "print(k)\n",
    "if k==27:#esc\n",
    "    cv2.destroyAllWindows()\n",
    "elif k==ord('s'): #s\n",
    "    cv2.imwrite('news_12233.png',img)\n",
    "    cv2.destroyAllWindows()"
   ]
  },
  {
   "cell_type": "code",
   "execution_count": null,
   "metadata": {
    "collapsed": false,
    "deletable": true,
    "editable": true
   },
   "outputs": [],
   "source": [
    "# use of cv2.resize() to resize an image\n",
    "'''\n",
    "print(img.shape)\n",
    "print(img.size)\n",
    "print(img.dtype)\n",
    "print(type(img))\n",
    "print(img.ndim)'''\n",
    "# res = cv2.resize(img,(800,1275))\n",
    "# print(res.shape)\n",
    "res2=cv2.resize(img,(int(img.shape[1]/10),int(img.shape[0]/10)))\n",
    "cv2.imshow('image_res',res2)\n",
    "cv2.waitKey(0)\n",
    "cv2.destroyAllWindows()\n",
    "\n"
   ]
  },
  {
   "cell_type": "markdown",
   "metadata": {
    "deletable": true,
    "editable": true
   },
   "source": [
    "# Capturing Video"
   ]
  },
  {
   "cell_type": "code",
   "execution_count": 14,
   "metadata": {
    "collapsed": false,
    "deletable": true,
    "editable": true
   },
   "outputs": [],
   "source": [
    "# import cv2,time\n",
    "\n",
    "# video  = cv2.VideoCapture(0) # function to capture video\n",
    "# while True:\n",
    "    \n",
    "#     check,frame = video.read()\n",
    "# #     print(check)\n",
    "# #     print(frame)\n",
    "#     gray=cv2.cvtColor(frame,cv2.COLOR_BGR2GRAY)\n",
    "# #     time.sleep(3)\n",
    "    \n",
    "#     cv2.imshow('Capturing',gray)\n",
    "#     k = cv2.waitKey(1)\n",
    "#     if k==ord('q'):\n",
    "#         break\n",
    "# video.release()       \n",
    "# cv2.destroyAllWindows()\n",
    "\n",
    "import cv2,time\n",
    "video=cv2.VideoCapture(0)\n",
    "while True:\n",
    "    check,frame=video.read()\n",
    "    cv2.imshow('Capturing',frame)\n",
    "    k=cv2.waitKey(1)\n",
    "    if k==ord('q'):\n",
    "        break\n",
    "video.release()\n",
    "cv2.destroyAllWindows()"
   ]
  },
  {
   "cell_type": "code",
   "execution_count": 7,
   "metadata": {
    "collapsed": false,
    "deletable": true,
    "editable": true
   },
   "outputs": [],
   "source": [
    "video.release()\n",
    "cv2.destroyAllWindows()"
   ]
  },
  {
   "cell_type": "code",
   "execution_count": 1,
   "metadata": {
    "collapsed": false,
    "deletable": true,
    "editable": true
   },
   "outputs": [
    {
     "ename": "AttributeError",
     "evalue": "module 'cv2.cv2' has no attribute 'Videowriter_fourcc'",
     "output_type": "error",
     "traceback": [
      "\u001b[1;31m---------------------------------------------------------------------------\u001b[0m",
      "\u001b[1;31mAttributeError\u001b[0m                            Traceback (most recent call last)",
      "\u001b[1;32m<ipython-input-1-6532a08aa5c8>\u001b[0m in \u001b[0;36m<module>\u001b[1;34m()\u001b[0m\n\u001b[0;32m      3\u001b[0m \u001b[1;33m\u001b[0m\u001b[0m\n\u001b[0;32m      4\u001b[0m \u001b[0mcap\u001b[0m  \u001b[1;33m=\u001b[0m \u001b[0mcv2\u001b[0m\u001b[1;33m.\u001b[0m\u001b[0mVideoCapture\u001b[0m\u001b[1;33m(\u001b[0m\u001b[1;36m0\u001b[0m\u001b[1;33m)\u001b[0m\u001b[1;33m\u001b[0m\u001b[0m\n\u001b[1;32m----> 5\u001b[1;33m \u001b[0mfourcc\u001b[0m \u001b[1;33m=\u001b[0m \u001b[0mcv2\u001b[0m\u001b[1;33m.\u001b[0m\u001b[0mVideowriter_fourcc\u001b[0m\u001b[1;33m(\u001b[0m\u001b[1;33m*\u001b[0m\u001b[1;34m'MJPG'\u001b[0m\u001b[1;33m)\u001b[0m\u001b[1;33m\u001b[0m\u001b[0m\n\u001b[0m\u001b[0;32m      6\u001b[0m \u001b[0mout\u001b[0m \u001b[1;33m=\u001b[0m \u001b[0mcv2\u001b[0m\u001b[1;33m.\u001b[0m\u001b[0mVideoWriter\u001b[0m\u001b[1;33m(\u001b[0m\u001b[1;34m'outpur.avi'\u001b[0m\u001b[1;33m,\u001b[0m\u001b[0mfourcc\u001b[0m\u001b[1;33m,\u001b[0m\u001b[1;36m5.0\u001b[0m\u001b[1;33m,\u001b[0m\u001b[1;33m(\u001b[0m\u001b[1;36m640\u001b[0m\u001b[1;33m,\u001b[0m\u001b[1;36m480\u001b[0m\u001b[1;33m)\u001b[0m\u001b[1;33m)\u001b[0m\u001b[1;33m\u001b[0m\u001b[0m\n\u001b[0;32m      7\u001b[0m \u001b[1;32mwhile\u001b[0m \u001b[1;32mTrue\u001b[0m\u001b[1;33m:\u001b[0m\u001b[1;33m\u001b[0m\u001b[0m\n",
      "\u001b[1;31mAttributeError\u001b[0m: module 'cv2.cv2' has no attribute 'Videowriter_fourcc'"
     ]
    }
   ],
   "source": [
    "# video writer\n",
    "# import cv2\n",
    "\n",
    "# cap  = cv2.VideoCapture(0)\n",
    "# fourcc = cv2.Videowriter_fourcc(*'MJPG')\n",
    "# out = cv2.VideoWriter('outpur.avi',fourcc,5.0,(640,480))\n",
    "# while True:\n",
    "#     ret,frame=cap.read()\n",
    "#     gray=cv2cvtColor(frame,cv2.COLOR_BGR2GRAY)\n",
    "#     out.write(frame)\n",
    "#     cv2.imshow('frame',gray)\n",
    "#     if(cv2.waitKey(1)&0xFF==ord('q')):\n",
    "#         break\n",
    "        \n",
    "# cap.release()\n",
    "# out.release()\n",
    "# cv2.destroyAllWindows()\n",
    "\n"
   ]
  },
  {
   "cell_type": "code",
   "execution_count": null,
   "metadata": {
    "collapsed": false,
    "deletable": true,
    "editable": true
   },
   "outputs": [],
   "source": [
    "cap.release()\n",
    "out.release()\n",
    "cv2.destroyAllWindows()"
   ]
  },
  {
   "cell_type": "code",
   "execution_count": 1,
   "metadata": {
    "collapsed": false,
    "deletable": true,
    "editable": true
   },
   "outputs": [
    {
     "name": "stdout",
     "output_type": "stream",
     "text": [
      "Hola\n"
     ]
    }
   ],
   "source": [
    "print('Hola')"
   ]
  },
  {
   "cell_type": "code",
   "execution_count": 5,
   "metadata": {
    "collapsed": false,
    "deletable": true,
    "editable": true
   },
   "outputs": [
    {
     "name": "stdout",
     "output_type": "stream",
     "text": [
      "()\n"
     ]
    },
    {
     "ename": "NameError",
     "evalue": "name 'rg' is not defined",
     "output_type": "error",
     "traceback": [
      "\u001b[1;31m---------------------------------------------------------------------------\u001b[0m",
      "\u001b[1;31mNameError\u001b[0m                                 Traceback (most recent call last)",
      "\u001b[1;32m<ipython-input-5-1532cdeca766>\u001b[0m in \u001b[0;36m<module>\u001b[1;34m()\u001b[0m\n\u001b[0;32m     18\u001b[0m \u001b[1;33m\u001b[0m\u001b[0m\n\u001b[0;32m     19\u001b[0m \u001b[0mcv2\u001b[0m\u001b[1;33m.\u001b[0m\u001b[0mimshow\u001b[0m\u001b[1;33m(\u001b[0m\u001b[1;34m'img'\u001b[0m\u001b[1;33m,\u001b[0m\u001b[0mimg\u001b[0m\u001b[1;33m)\u001b[0m\u001b[1;33m\u001b[0m\u001b[0m\n\u001b[1;32m---> 20\u001b[1;33m \u001b[0mcv2\u001b[0m\u001b[1;33m.\u001b[0m\u001b[0mimshow\u001b[0m\u001b[1;33m(\u001b[0m\u001b[1;34m'img1'\u001b[0m\u001b[1;33m,\u001b[0m\u001b[0mrg\u001b[0m\u001b[1;33m)\u001b[0m\u001b[1;33m\u001b[0m\u001b[0m\n\u001b[0m\u001b[0;32m     21\u001b[0m \u001b[0mcv2\u001b[0m\u001b[1;33m.\u001b[0m\u001b[0mimshow\u001b[0m\u001b[1;33m(\u001b[0m\u001b[1;34m'img2'\u001b[0m\u001b[1;33m,\u001b[0m\u001b[0mrc\u001b[0m\u001b[1;33m)\u001b[0m\u001b[1;33m\u001b[0m\u001b[0m\n\u001b[0;32m     22\u001b[0m \u001b[0mcv2\u001b[0m\u001b[1;33m.\u001b[0m\u001b[0mwait_key\u001b[0m\u001b[1;33m(\u001b[0m\u001b[1;36m0\u001b[0m\u001b[1;33m)\u001b[0m\u001b[1;33m\u001b[0m\u001b[0m\n",
      "\u001b[1;31mNameError\u001b[0m: name 'rg' is not defined"
     ]
    }
   ],
   "source": [
    "#face detection\n",
    "import numpy as np\n",
    "import cv2\n",
    "#mutiple cascades : https://github.com/Itseez/opencv/tree....\n",
    "face_cascade = cv2.CascadeClassifier('sample-images/sample-images/haarcascade_frontalface_default.xml')\n",
    "img =cv2.imread('images.jpg',1)\n",
    "\n",
    "gray = cv2.cvtColor(img,cv2.COLOR_BGR2GRAY)\n",
    "\n",
    "faces = face_cascade.detectMultiScale(gray,scaleFactor=1.3,minNeighbors=5)\n",
    "\n",
    "print(faces)\n",
    "\n",
    "for(x,y,w,h) in faces:\n",
    "    cv2.rectagle(img,(x,y),(x+w,y+h)(255,0,0),2)\n",
    "    rg = gray[y:y+h,x:x+w]\n",
    "    rc = img[y:y+h,x:x+w]\n",
    "    \n",
    "cv2.imshow('img',img)\n",
    "cv2.imshow('img1',rg)\n",
    "cv2.imshow('img2',rc)\n",
    "cv2.wait_key(0)\n",
    "cv2.destroyAllWindows()\n",
    "    "
   ]
  },
  {
   "cell_type": "code",
   "execution_count": null,
   "metadata": {
    "collapsed": true,
    "deletable": true,
    "editable": true
   },
   "outputs": [],
   "source": []
  }
 ],
 "metadata": {
  "kernelspec": {
   "display_name": "Python 3",
   "language": "python",
   "name": "python3"
  },
  "language_info": {
   "codemirror_mode": {
    "name": "ipython",
    "version": 3
   },
   "file_extension": ".py",
   "mimetype": "text/x-python",
   "name": "python",
   "nbconvert_exporter": "python",
   "pygments_lexer": "ipython3",
   "version": "3.5.2"
  }
 },
 "nbformat": 4,
 "nbformat_minor": 2
}
